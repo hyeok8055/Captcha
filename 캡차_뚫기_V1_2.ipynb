{
  "nbformat": 4,
  "nbformat_minor": 0,
  "metadata": {
    "colab": {
      "name": "캡차 뚫기 V1.2.ipynb",
      "provenance": [],
      "collapsed_sections": [],
      "machine_shape": "hm",
      "include_colab_link": true
    },
    "kernelspec": {
      "name": "python3",
      "display_name": "Python 3"
    },
    "language_info": {
      "name": "python"
    },
    "accelerator": "GPU"
  },
  "cells": [
    {
      "cell_type": "markdown",
      "metadata": {
        "id": "view-in-github",
        "colab_type": "text"
      },
      "source": [
        "<a href=\"https://colab.research.google.com/github/hyeok8055/Captcha/blob/main/%EC%BA%A1%EC%B0%A8_%EB%9A%AB%EA%B8%B0_V1_2.ipynb\" target=\"_parent\"><img src=\"https://colab.research.google.com/assets/colab-badge.svg\" alt=\"Open In Colab\"/></a>"
      ]
    },
    {
      "cell_type": "markdown",
      "metadata": {
        "id": "s6WOMldZOkSR"
      },
      "source": [
        "# Version Log\n",
        "### 최초 제작자 : 윤주혁\n",
        "### 데이터 수집에 돈낸 사람 : 윤주혁\n",
        "### 데이터 전처리 및 학습 참여 : 김보찬\n",
        "### Modeling : 오민기\n",
        "* * *\n",
        "### Initial\n",
        "> * val_loss =3.11 \n",
        "> * cap2022제외 정확도 100%\n",
        "* * *\n",
        "### 1.1 Version\n",
        "> * 라벨 데이터 원핫 인코딩 코드 정리\n",
        "* * *\n",
        "### 1.2 Version\n",
        "> * 코드정리\n",
        "> * 모델 수정 및 성능 개선 val_loss = 0.24079\n",
        "* * *"
      ]
    },
    {
      "cell_type": "code",
      "metadata": {
        "colab": {
          "base_uri": "https://localhost:8080/"
        },
        "id": "tJCF0XEkXtxW",
        "outputId": "64d3318a-eca9-4c43-9596-88377e662c6f"
      },
      "source": [
        "#구글 드라이브 다운로드 패키지\n",
        "from google_drive_downloader import GoogleDriveDownloader as gdd\n",
        "#구글 드라이브 공유 파일 다운로드\n",
        "gdd.download_file_from_google_drive(file_id='', #공유 파일 id  # 보안을 위해 고유 id 제거\n",
        "                                    dest_path='raw/raw_2000.zip', #저장할 이름\n",
        "                                    unzip=True) #압축 풀기"
      ],
      "execution_count": null,
      "outputs": [
        {
          "output_type": "stream",
          "text": [
            "Downloading 1hzADnSB_Dn-AYhKz9SqX4oXSVe_TimDv into raw/raw_2000.zip... Done.\n",
            "Unzipping...Done.\n"
          ],
          "name": "stdout"
        }
      ]
    },
    {
      "cell_type": "code",
      "metadata": {
        "id": "wnu1_G__zp9A"
      },
      "source": [
        "!rm raw/raw_2000.zip"
      ],
      "execution_count": null,
      "outputs": []
    },
    {
      "cell_type": "markdown",
      "metadata": {
        "id": "Fg2Dx2TBQZWD"
      },
      "source": [
        "## 데이터 전처리"
      ]
    },
    {
      "cell_type": "code",
      "metadata": {
        "id": "rWYSyZK3tL0x"
      },
      "source": [
        "import os, cv2, time\n",
        "\n",
        "import pandas as pd\n",
        "import numpy as np\n",
        "\n",
        "import matplotlib.pyplot as plt\n",
        "import seaborn as sns\n",
        "\n",
        "from PIL import Image\n",
        "\n",
        "import tensorflow as tf\n",
        "from tensorflow.keras.layers import Dense, Conv2D, MaxPooling2D, Dropout, BatchNormalization, Flatten, Concatenate, Input, Reshape\n",
        "from tensorflow.keras.models import Model\n",
        "from tensorflow.keras.callbacks import ModelCheckpoint, EarlyStopping"
      ],
      "execution_count": null,
      "outputs": []
    },
    {
      "cell_type": "code",
      "metadata": {
        "colab": {
          "base_uri": "https://localhost:8080/",
          "height": 35
        },
        "id": "On5NDrXL0N3f",
        "outputId": "1669e180-5088-400b-e760-1df7e2f8d8a2"
      },
      "source": [
        "path = '/content/raw/'\n",
        "img_list = os.listdir(path)\n",
        "img_list[0]"
      ],
      "execution_count": null,
      "outputs": [
        {
          "output_type": "execute_result",
          "data": {
            "application/vnd.google.colaboratory.intrinsic+json": {
              "type": "string"
            },
            "text/plain": [
              "'2wrf.png'"
            ]
          },
          "metadata": {},
          "execution_count": 4
        }
      ]
    },
    {
      "cell_type": "code",
      "metadata": {
        "id": "rgtxNfy2z708"
      },
      "source": [
        "max_output_value = 255\n",
        "neighborhood_size = 99\n",
        "subtract_from_mean = 10\n",
        "save_path = '/content/preprocessed/'\n",
        "\n",
        "def img_preprocessing(img_list, path, save_path): \n",
        "\n",
        "    if os.path.isdir(save_path):\n",
        "        print(\"already exist\")\n",
        "    else:\n",
        "        os.mkdir(save_path)\n",
        "    \n",
        "    for img_name in img_list:\n",
        "        image = cv2.imread(os.path.join(path, img_name), cv2.IMREAD_GRAYSCALE) # 흑백 이미지로 로드\n",
        "        image = image[:,:130]\n",
        "        image = cv2.adaptiveThreshold(image, max_output_value,\n",
        "                                                cv2.ADAPTIVE_THRESH_GAUSSIAN_C, cv2.THRESH_BINARY,\n",
        "                                                neighborhood_size, subtract_from_mean) # 적응적 임계처리를 적용\n",
        "        cv2.imwrite(os.path.join(save_path, img_name), image) # 이미지를 저장\n",
        "        \n",
        "img_preprocessing(img_list, path, save_path)"
      ],
      "execution_count": null,
      "outputs": []
    },
    {
      "cell_type": "markdown",
      "metadata": {
        "id": "G52ftOiRQb_D"
      },
      "source": [
        "## 머신러닝 부분"
      ]
    },
    {
      "cell_type": "code",
      "metadata": {
        "colab": {
          "base_uri": "https://localhost:8080/"
        },
        "id": "I6vXNEkUQukb",
        "outputId": "c686bd34-8614-4dfc-e7f8-047ce4d44519"
      },
      "source": [
        "img_list = os.listdir(save_path)\n",
        "\n",
        "def img_to_np(img_list, path):  \n",
        "    img_array = []\n",
        "    for img_name in img_list:\n",
        "      try:\n",
        "        img = Image.open(os.path.join(path, img_name)).convert('L')\n",
        "        # img = img.resize((130, 130))\n",
        "        img_array.append(np.asarray(img))\n",
        "      except:\n",
        "        continue\n",
        "    images = np.array(img_array)\n",
        "    return images\n",
        "\n",
        "x_train = img_to_np(img_list, save_path)\n",
        "x_train = x_train.astype(np.float32) / 255.\n",
        "\n",
        "print(x_train.shape)"
      ],
      "execution_count": null,
      "outputs": [
        {
          "output_type": "stream",
          "text": [
            "(2011, 40, 130)\n"
          ],
          "name": "stdout"
        }
      ]
    },
    {
      "cell_type": "markdown",
      "metadata": {
        "id": "6Y5j4UowtlOX"
      },
      "source": [
        "### 라벨 데이터 원핫 인코딩"
      ]
    },
    {
      "cell_type": "code",
      "metadata": {
        "id": "TKvWWEaw2FC3",
        "colab": {
          "base_uri": "https://localhost:8080/"
        },
        "outputId": "18a923ff-c562-4fb1-8783-2a95fbc425d6"
      },
      "source": [
        "temp = [x.split('.')[0] for x in img_list] \n",
        "\n",
        "strings = []\n",
        "for st in temp:\n",
        "    strings += list(st)\n",
        "    \n",
        "index = np.array(list(set(strings)))\n",
        "index"
      ],
      "execution_count": null,
      "outputs": [
        {
          "output_type": "execute_result",
          "data": {
            "text/plain": [
              "array(['2', 'p', 'm', 'f', '7', 'n', 'g', 'y', '3', 'e', '5', 'r', 'k',\n",
              "       '8', '4', 'x', 'h', 'a', 'b', 'd', '6', 'c', 'w'], dtype='<U1')"
            ]
          },
          "metadata": {},
          "execution_count": 7
        }
      ]
    },
    {
      "cell_type": "code",
      "metadata": {
        "id": "KPrefUm4wWzK"
      },
      "source": [
        "res = []\n",
        "y_train = []\n",
        "\n",
        "for st in temp:\n",
        "    t = []\n",
        "    for ch in list(st):\n",
        "        for i, c in enumerate(index):\n",
        "            if ch == c:\n",
        "                t.append(i)\n",
        "                break\n",
        "    res.append(t)\n",
        "\n",
        "\n",
        "\n",
        "for r in res:\n",
        "    y_train.append(tf.one_hot(r, 23))\n",
        "\n",
        "y_train = np.asarray(y_train)"
      ],
      "execution_count": null,
      "outputs": []
    },
    {
      "cell_type": "code",
      "metadata": {
        "id": "GuUB0NULCtlw"
      },
      "source": [
        "# dense_train = x_train.copy()\n",
        "x_train=x_train[...,tf.newaxis]"
      ],
      "execution_count": null,
      "outputs": []
    },
    {
      "cell_type": "code",
      "metadata": {
        "id": "Vj3YVHwxTnZL"
      },
      "source": [
        "H, W, C = 40, 130, 1\n",
        "N_LABELS = 23\n",
        "D = 4"
      ],
      "execution_count": null,
      "outputs": []
    },
    {
      "cell_type": "code",
      "metadata": {
        "colab": {
          "base_uri": "https://localhost:8080/"
        },
        "id": "DH0CBnQuTaSV",
        "outputId": "199a2b5c-da6d-4bd2-e427-1a7ba2c531b3"
      },
      "source": [
        "input_layer = Input(shape=(H, W, C))\n",
        "\n",
        "# Kernel Size = 3\n",
        "kernel_3 = Conv2D(32, (3, 3) , activation='relu', kernel_initializer=\"he_normal\")(input_layer)\n",
        "kernel_3 = MaxPooling2D((2, 2))(kernel_3)\n",
        "kernel_3 = Conv2D(64, (3, 3), activation='relu',  kernel_initializer=\"he_normal\")(kernel_3)\n",
        "kernel_3 = MaxPooling2D((2, 2),)(kernel_3)\n",
        "kernel_3 = Conv2D(128, (3, 3), activation='relu',  kernel_initializer=\"he_normal\")(kernel_3)\n",
        "kernel_3 = MaxPooling2D((2, 2))(kernel_3)\n",
        "kernel_3 = Flatten()(kernel_3)\n",
        "\n",
        "# Kernel Size = 4\n",
        "kernel_4 = Conv2D(32, 5, activation='relu', kernel_initializer=\"he_normal\")(input_layer)\n",
        "kernel_4 = MaxPooling2D((2, 2))(kernel_4)\n",
        "kernel_4 = Conv2D(64, 5, activation='relu',  kernel_initializer=\"he_normal\")(kernel_4)\n",
        "kernel_4 = MaxPooling2D((2, 2),)(kernel_4)\n",
        "kernel_4 = Conv2D(128, 5, activation='relu',  kernel_initializer=\"he_normal\")(kernel_4)\n",
        "kernel_4 = MaxPooling2D((2, 2),)(kernel_4)\n",
        "kernel_4 = Flatten()(kernel_4)\n",
        "\n",
        "# Concat\n",
        "concat = Concatenate()([kernel_3, kernel_4])\n",
        "concat = Dense(2048, activation=\"relu\", kernel_initializer=\"he_normal\")(concat)\n",
        "concat = BatchNormalization()(concat)\n",
        "concat = Dropout(0.2)(concat)\n",
        "concat = Dense(512, activation=\"relu\", kernel_initializer=\"he_normal\")(concat)\n",
        "# concat = BatchNormalization()(concat)\n",
        "# concat = Dropout(0.2)(concat)\n",
        "concat = Dense(D * N_LABELS, activation='softmax')(concat)\n",
        "output = Reshape((D, N_LABELS))(concat)\n",
        "\n",
        "\n",
        "model = Model(inputs=[input_layer], outputs=output)\n",
        "\n",
        "\n",
        "model.compile(optimizer='adam', \n",
        "              loss='categorical_crossentropy', \n",
        "              metrics=['acc'])\n",
        "\n",
        "model.summary()"
      ],
      "execution_count": null,
      "outputs": [
        {
          "output_type": "stream",
          "text": [
            "Model: \"model_2\"\n",
            "__________________________________________________________________________________________________\n",
            "Layer (type)                    Output Shape         Param #     Connected to                     \n",
            "==================================================================================================\n",
            "input_3 (InputLayer)            [(None, 40, 130, 1)] 0                                            \n",
            "__________________________________________________________________________________________________\n",
            "conv2d_12 (Conv2D)              (None, 38, 128, 32)  320         input_3[0][0]                    \n",
            "__________________________________________________________________________________________________\n",
            "conv2d_15 (Conv2D)              (None, 36, 126, 32)  832         input_3[0][0]                    \n",
            "__________________________________________________________________________________________________\n",
            "max_pooling2d_12 (MaxPooling2D) (None, 19, 64, 32)   0           conv2d_12[0][0]                  \n",
            "__________________________________________________________________________________________________\n",
            "max_pooling2d_15 (MaxPooling2D) (None, 18, 63, 32)   0           conv2d_15[0][0]                  \n",
            "__________________________________________________________________________________________________\n",
            "conv2d_13 (Conv2D)              (None, 17, 62, 64)   18496       max_pooling2d_12[0][0]           \n",
            "__________________________________________________________________________________________________\n",
            "conv2d_16 (Conv2D)              (None, 14, 59, 64)   51264       max_pooling2d_15[0][0]           \n",
            "__________________________________________________________________________________________________\n",
            "max_pooling2d_13 (MaxPooling2D) (None, 8, 31, 64)    0           conv2d_13[0][0]                  \n",
            "__________________________________________________________________________________________________\n",
            "max_pooling2d_16 (MaxPooling2D) (None, 7, 29, 64)    0           conv2d_16[0][0]                  \n",
            "__________________________________________________________________________________________________\n",
            "conv2d_14 (Conv2D)              (None, 6, 29, 128)   73856       max_pooling2d_13[0][0]           \n",
            "__________________________________________________________________________________________________\n",
            "conv2d_17 (Conv2D)              (None, 3, 25, 128)   204928      max_pooling2d_16[0][0]           \n",
            "__________________________________________________________________________________________________\n",
            "max_pooling2d_14 (MaxPooling2D) (None, 3, 14, 128)   0           conv2d_14[0][0]                  \n",
            "__________________________________________________________________________________________________\n",
            "max_pooling2d_17 (MaxPooling2D) (None, 1, 12, 128)   0           conv2d_17[0][0]                  \n",
            "__________________________________________________________________________________________________\n",
            "flatten_4 (Flatten)             (None, 5376)         0           max_pooling2d_14[0][0]           \n",
            "__________________________________________________________________________________________________\n",
            "flatten_5 (Flatten)             (None, 1536)         0           max_pooling2d_17[0][0]           \n",
            "__________________________________________________________________________________________________\n",
            "concatenate_2 (Concatenate)     (None, 6912)         0           flatten_4[0][0]                  \n",
            "                                                                 flatten_5[0][0]                  \n",
            "__________________________________________________________________________________________________\n",
            "dense_6 (Dense)                 (None, 2048)         14157824    concatenate_2[0][0]              \n",
            "__________________________________________________________________________________________________\n",
            "batch_normalization_3 (BatchNor (None, 2048)         8192        dense_6[0][0]                    \n",
            "__________________________________________________________________________________________________\n",
            "dropout_3 (Dropout)             (None, 2048)         0           batch_normalization_3[0][0]      \n",
            "__________________________________________________________________________________________________\n",
            "dense_7 (Dense)                 (None, 512)          1049088     dropout_3[0][0]                  \n",
            "__________________________________________________________________________________________________\n",
            "dense_8 (Dense)                 (None, 92)           47196       dense_7[0][0]                    \n",
            "__________________________________________________________________________________________________\n",
            "reshape_2 (Reshape)             (None, 4, 23)        0           dense_8[0][0]                    \n",
            "==================================================================================================\n",
            "Total params: 15,611,996\n",
            "Trainable params: 15,607,900\n",
            "Non-trainable params: 4,096\n",
            "__________________________________________________________________________________________________\n"
          ],
          "name": "stdout"
        }
      ]
    },
    {
      "cell_type": "code",
      "metadata": {
        "colab": {
          "base_uri": "https://localhost:8080/",
          "height": 1000
        },
        "id": "Eri5lkV7SBfe",
        "outputId": "2ffa08d5-9cdd-4128-e784-40598fd572b0"
      },
      "source": [
        "from tensorflow.keras.utils import plot_model\n",
        "\n",
        "plot_model(model)"
      ],
      "execution_count": null,
      "outputs": [
        {
          "output_type": "execute_result",
          "data": {
            "image/png": "[encoded data removed]",
            "text/plain": [
              "<IPython.core.display.Image object>"
            ]
          },
          "metadata": {},
          "execution_count": 20
        }
      ]
    },
    {
      "cell_type": "code",
      "metadata": {
        "id": "T9s8OJrwF-NQ"
      },
      "source": [
        "from tensorflow.keras.callbacks import ModelCheckpoint, EarlyStopping\n",
        "\n",
        "checkpoint_path = \"/content/my_checkpoint.ckpt\"\n",
        "mc = ModelCheckpoint(filepath=checkpoint_path, \n",
        "                             save_weights_only=True, \n",
        "                             save_best_only=True, \n",
        "                             monitor='val_loss', \n",
        "                             verbose=1)\n",
        "ea =  EarlyStopping(patience=10, monitor='val_loss', verbose=1)"
      ],
      "execution_count": null,
      "outputs": []
    },
    {
      "cell_type": "code",
      "metadata": {
        "colab": {
          "base_uri": "https://localhost:8080/"
        },
        "id": "7nCi3uk_T5lr",
        "outputId": "bb30b4bc-7f85-42ae-f657-87972654e447"
      },
      "source": [
        "batch_size = 64\n",
        "# train_gen = get_data_generator(X_train, Y_train, for_training=True, batch_size=batch_size)\n",
        "# valid_gen = get_data_generator(X_valid, Y_valid, for_training=True, batch_size=valid_batch_size)\n",
        "\n",
        "\n",
        "model.fit(x_train, y_train, validation_split=0.2, batch_size=32, epochs=100, callbacks=[mc, ea], verbose=1)"
      ],
      "execution_count": null,
      "outputs": [
        {
          "output_type": "stream",
          "text": [
            "Epoch 1/100\n",
            "51/51 [==============================] - 4s 48ms/step - loss: 1.8660 - acc: 0.4806 - val_loss: 10.5065 - val_acc: 0.1346\n",
            "\n",
            "Epoch 00001: val_loss improved from inf to 10.50655, saving model to /content/my_checkpoint.ckpt\n",
            "Epoch 2/100\n",
            "51/51 [==============================] - 2s 39ms/step - loss: 0.3161 - acc: 0.9182 - val_loss: 5.3799 - val_acc: 0.3145\n",
            "\n",
            "Epoch 00002: val_loss improved from 10.50655 to 5.37985, saving model to /content/my_checkpoint.ckpt\n",
            "Epoch 3/100\n",
            "51/51 [==============================] - 2s 39ms/step - loss: 0.0671 - acc: 0.9907 - val_loss: 2.8161 - val_acc: 0.3976\n",
            "\n",
            "Epoch 00003: val_loss improved from 5.37985 to 2.81608, saving model to /content/my_checkpoint.ckpt\n",
            "Epoch 4/100\n",
            "51/51 [==============================] - 2s 39ms/step - loss: 0.0206 - acc: 0.9991 - val_loss: 1.6873 - val_acc: 0.5794\n",
            "\n",
            "Epoch 00004: val_loss improved from 2.81608 to 1.68734, saving model to /content/my_checkpoint.ckpt\n",
            "Epoch 5/100\n",
            "51/51 [==============================] - 2s 39ms/step - loss: 0.0078 - acc: 1.0000 - val_loss: 0.7912 - val_acc: 0.7816\n",
            "\n",
            "Epoch 00005: val_loss improved from 1.68734 to 0.79119, saving model to /content/my_checkpoint.ckpt\n",
            "Epoch 6/100\n",
            "51/51 [==============================] - 2s 39ms/step - loss: 0.0045 - acc: 1.0000 - val_loss: 0.7520 - val_acc: 0.7922\n",
            "\n",
            "Epoch 00006: val_loss improved from 0.79119 to 0.75200, saving model to /content/my_checkpoint.ckpt\n",
            "Epoch 7/100\n",
            "51/51 [==============================] - 2s 39ms/step - loss: 0.0032 - acc: 1.0000 - val_loss: 0.4172 - val_acc: 0.8821\n",
            "\n",
            "Epoch 00007: val_loss improved from 0.75200 to 0.41717, saving model to /content/my_checkpoint.ckpt\n",
            "Epoch 8/100\n",
            "51/51 [==============================] - 2s 39ms/step - loss: 0.0024 - acc: 1.0000 - val_loss: 0.7428 - val_acc: 0.8282\n",
            "\n",
            "Epoch 00008: val_loss did not improve from 0.41717\n",
            "Epoch 9/100\n",
            "51/51 [==============================] - 2s 39ms/step - loss: 0.0037 - acc: 0.9995 - val_loss: 0.4401 - val_acc: 0.8809\n",
            "\n",
            "Epoch 00009: val_loss did not improve from 0.41717\n",
            "Epoch 10/100\n",
            "51/51 [==============================] - 2s 39ms/step - loss: 0.0036 - acc: 0.9997 - val_loss: 0.6488 - val_acc: 0.8257\n",
            "\n",
            "Epoch 00010: val_loss did not improve from 0.41717\n",
            "Epoch 11/100\n",
            "51/51 [==============================] - 2s 38ms/step - loss: 0.0153 - acc: 0.9967 - val_loss: 4.1054 - val_acc: 0.3393\n",
            "\n",
            "Epoch 00011: val_loss did not improve from 0.41717\n",
            "Epoch 12/100\n",
            "51/51 [==============================] - 2s 39ms/step - loss: 0.0492 - acc: 0.9890 - val_loss: 10.3357 - val_acc: 0.2029\n",
            "\n",
            "Epoch 00012: val_loss did not improve from 0.41717\n",
            "Epoch 13/100\n",
            "51/51 [==============================] - 2s 39ms/step - loss: 0.1177 - acc: 0.9636 - val_loss: 12.0597 - val_acc: 0.1594\n",
            "\n",
            "Epoch 00013: val_loss did not improve from 0.41717\n",
            "Epoch 14/100\n",
            "51/51 [==============================] - 2s 39ms/step - loss: 0.2461 - acc: 0.9251 - val_loss: nan - val_acc: 0.3344\n",
            "\n",
            "Epoch 00014: val_loss did not improve from 0.41717\n",
            "Epoch 15/100\n",
            "51/51 [==============================] - 2s 38ms/step - loss: 0.1616 - acc: 0.9476 - val_loss: 6.7651 - val_acc: 0.2605\n",
            "\n",
            "Epoch 00015: val_loss did not improve from 0.41717\n",
            "Epoch 16/100\n",
            "51/51 [==============================] - 2s 39ms/step - loss: 0.1005 - acc: 0.9694 - val_loss: 6.5657 - val_acc: 0.3443\n",
            "\n",
            "Epoch 00016: val_loss did not improve from 0.41717\n",
            "Epoch 17/100\n",
            "51/51 [==============================] - 2s 39ms/step - loss: 0.0481 - acc: 0.9865 - val_loss: 1.8806 - val_acc: 0.7066\n",
            "\n",
            "Epoch 00017: val_loss did not improve from 0.41717\n",
            "Epoch 00017: early stopping\n"
          ],
          "name": "stdout"
        },
        {
          "output_type": "execute_result",
          "data": {
            "text/plain": [
              "<keras.callbacks.History at 0x7f1c09675f10>"
            ]
          },
          "metadata": {},
          "execution_count": 22
        }
      ]
    },
    {
      "cell_type": "code",
      "metadata": {
        "id": "CUc4YJbwWFvH"
      },
      "source": [
        "model = model.load_weights(checkpoint_path)"
      ],
      "execution_count": null,
      "outputs": []
    },
    {
      "cell_type": "code",
      "metadata": {
        "colab": {
          "base_uri": "https://localhost:8080/",
          "height": 172
        },
        "id": "cYtqm4md-7lx",
        "outputId": "c0b80674-c508-41a9-b5e7-ab6521c5d833"
      },
      "source": [
        "image = cv2.imread('/content/tt.png', cv2.IMREAD_GRAYSCALE) # 흑백 이미지로 로드\n",
        "image_cropped = image[:,:130]\n",
        "image_binarized = cv2.adaptiveThreshold(image_cropped, max_output_value,\n",
        "                                        cv2.ADAPTIVE_THRESH_GAUSSIAN_C, cv2.THRESH_BINARY,\n",
        "                                        neighborhood_size, subtract_from_mean) # 적응적 임계처리를 적용\n",
        "plt.imshow(image_binarized,cmap='gray')        \n",
        "\n",
        "input = image_binarized/255.0\n",
        "# input2 = input.reshape([1,40,130])\n",
        "input_conv = input.reshape([1,40,130,1])\n",
        "output = model.predict(input_conv)\n",
        "for out in output[0]:\n",
        "    print(index[np.argmax(out)],end='')"
      ],
      "execution_count": null,
      "outputs": [
        {
          "output_type": "stream",
          "text": [
            "35ha"
          ],
          "name": "stdout"
        },
        {
          "output_type": "display_data",
          "data": {
            "image/png": "[encoded data removed]",
            "text/plain": [
              "<Figure size 432x288 with 1 Axes>"
            ]
          },
          "metadata": {
            "tags": [],
            "needs_background": "light"
          }
        }
      ]
    },
    {
      "cell_type": "code",
      "metadata": {
        "colab": {
          "base_uri": "https://localhost:8080/"
        },
        "id": "ZyA1uC66Isdx",
        "outputId": "1b60aa1c-af18-4130-bc7e-3df1f5fe780e"
      },
      "source": [
        ""
      ],
      "execution_count": null,
      "outputs": [
        {
          "output_type": "stream",
          "text": [
            "ne8d"
          ],
          "name": "stdout"
        }
      ]
    },
    {
      "cell_type": "code",
      "metadata": {
        "id": "WLJRxUjqOVkp"
      },
      "source": [
        ""
      ],
      "execution_count": null,
      "outputs": []
    }
  ]
}